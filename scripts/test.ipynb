{
 "cells": [
  {
   "cell_type": "code",
   "execution_count": 1,
   "id": "1aa48e39",
   "metadata": {},
   "outputs": [],
   "source": [
    "import os"
   ]
  },
  {
   "cell_type": "code",
   "execution_count": 2,
   "id": "b6afde09",
   "metadata": {},
   "outputs": [
    {
     "name": "stdout",
     "output_type": "stream",
     "text": [
      "c:\\Users\\dgalassi\\commodity_lab\\scripts\n"
     ]
    }
   ],
   "source": [
    "print(os.getcwd())"
   ]
  },
  {
   "cell_type": "code",
   "execution_count": 3,
   "id": "be6ecbe8",
   "metadata": {},
   "outputs": [],
   "source": [
    "folder = \"../commodity_lab/data/raw/futures/WTI_crude_oil\""
   ]
  },
  {
   "cell_type": "code",
   "execution_count": null,
   "id": "27d3523e",
   "metadata": {},
   "outputs": [],
   "source": [
    "# Set your folder, base name, and database file\n",
    "folder = \"./csv_folder\"\n",
    "base_name = \"crude-oil-wti-prices-end-of-day-\"\n",
    "db_path = \"mydatabase.db\"\n",
    "table_name = \"my_table\"\n",
    "\n",
    "# Get date input from user (for notebook, we can just assign a variable)\n",
    "date_str = \"20250723\"  # you can change this to test different dates\n",
    "\n",
    "# Build filename\n",
    "filename = f\"{base_name}{date_str}.csv\"\n",
    "file_path = f\"{folder}/{filename}\"\n",
    "\n",
    "print(\"File to load:\", file_path)\n"
   ]
  }
 ],
 "metadata": {
  "kernelspec": {
   "display_name": "env_commodity_lab",
   "language": "python",
   "name": "python3"
  },
  "language_info": {
   "codemirror_mode": {
    "name": "ipython",
    "version": 3
   },
   "file_extension": ".py",
   "mimetype": "text/x-python",
   "name": "python",
   "nbconvert_exporter": "python",
   "pygments_lexer": "ipython3",
   "version": "3.12.2"
  }
 },
 "nbformat": 4,
 "nbformat_minor": 5
}
