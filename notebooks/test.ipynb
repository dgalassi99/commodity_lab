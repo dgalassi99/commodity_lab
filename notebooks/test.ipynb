{
 "cells": [
  {
   "cell_type": "markdown",
   "id": "aa3582d9",
   "metadata": {},
   "source": [
    "# Still Testing :)"
   ]
  },
  {
   "cell_type": "code",
   "execution_count": 2,
   "id": "777dbe42",
   "metadata": {},
   "outputs": [
    {
     "name": "stdout",
     "output_type": "stream",
     "text": [
      "c:\\Users\\dgalassi\\commodity_lab\\notebooks\n",
      "['.gitkeep', 'data_loader.py', 'fetch_yf_spot_data.py', 'setup_db.py', 'upload_db.py', '__pycache__']\n"
     ]
    }
   ],
   "source": [
    "import os\n",
    "print(os.getcwd())\n",
    "print(os.listdir('../scripts'))"
   ]
  },
  {
   "cell_type": "code",
   "execution_count": 1,
   "id": "20a9c7a3",
   "metadata": {},
   "outputs": [],
   "source": [
    "import sys\n",
    "sys.path.append('../scripts')\n",
    "from data_loader import load_data\n",
    "df = load_data('../data/raw/btc_1d_data_2018_to_2025.csv')\n"
   ]
  },
  {
   "cell_type": "code",
   "execution_count": 3,
   "id": "71014415",
   "metadata": {},
   "outputs": [],
   "source": [
    "import sys\n",
    "sys.path.append('../scripts')\n",
    "from fetch_yf_spot_data import fetch_spot_prices"
   ]
  },
  {
   "cell_type": "code",
   "execution_count": 4,
   "id": "cde5d3cc",
   "metadata": {},
   "outputs": [],
   "source": [
    "tickers =   commodities = {\n",
    "        \"Gold\": \"GC=F\",\n",
    "        \"Crude Oil\": \"CL=F\",\n",
    "    }"
   ]
  },
  {
   "cell_type": "code",
   "execution_count": 5,
   "id": "a6c9f74d",
   "metadata": {},
   "outputs": [
    {
     "name": "stdout",
     "output_type": "stream",
     "text": [
      "Fetching  data for Gold (GC=F) - Period: 6mo, Interval: 1d\n"
     ]
    },
    {
     "name": "stderr",
     "output_type": "stream",
     "text": [
      "c:\\Users\\dgalassi\\commodity_lab\\notebooks\\../scripts\\fetch_yf_spot_data.py:34: FutureWarning: YF.download() has changed argument auto_adjust default to True\n",
      "  data = yf.download(ticker, period=period, interval=interval)\n",
      "[*********************100%***********************]  1 of 1 completed\n",
      "c:\\Users\\dgalassi\\commodity_lab\\notebooks\\../scripts\\fetch_yf_spot_data.py:34: FutureWarning: YF.download() has changed argument auto_adjust default to True\n",
      "  data = yf.download(ticker, period=period, interval=interval)\n",
      "[*********************100%***********************]  1 of 1 completed"
     ]
    },
    {
     "name": "stdout",
     "output_type": "stream",
     "text": [
      "Fetching  data for Crude Oil (CL=F) - Period: 6mo, Interval: 1d\n"
     ]
    },
    {
     "name": "stderr",
     "output_type": "stream",
     "text": [
      "\n"
     ]
    }
   ],
   "source": [
    "data = fetch_spot_prices(tickers, period='6mo',interval='1d')"
   ]
  },
  {
   "cell_type": "code",
   "execution_count": 6,
   "id": "734ebc4b",
   "metadata": {},
   "outputs": [
    {
     "data": {
      "text/plain": [
       "Index(['date', 'open', 'high', 'low', 'close', 'volume', 'name', 'ticker',\n",
       "       'source', 'timeframe'],\n",
       "      dtype='object')"
      ]
     },
     "execution_count": 6,
     "metadata": {},
     "output_type": "execute_result"
    }
   ],
   "source": [
    "data.columns"
   ]
  },
  {
   "cell_type": "code",
   "execution_count": 7,
   "id": "42e835c6",
   "metadata": {},
   "outputs": [
    {
     "data": {
      "text/html": [
       "<div>\n",
       "<style scoped>\n",
       "    .dataframe tbody tr th:only-of-type {\n",
       "        vertical-align: middle;\n",
       "    }\n",
       "\n",
       "    .dataframe tbody tr th {\n",
       "        vertical-align: top;\n",
       "    }\n",
       "\n",
       "    .dataframe thead th {\n",
       "        text-align: right;\n",
       "    }\n",
       "</style>\n",
       "<table border=\"1\" class=\"dataframe\">\n",
       "  <thead>\n",
       "    <tr style=\"text-align: right;\">\n",
       "      <th></th>\n",
       "      <th>date</th>\n",
       "      <th>open</th>\n",
       "      <th>high</th>\n",
       "      <th>low</th>\n",
       "      <th>close</th>\n",
       "      <th>volume</th>\n",
       "      <th>name</th>\n",
       "      <th>ticker</th>\n",
       "      <th>source</th>\n",
       "      <th>timeframe</th>\n",
       "    </tr>\n",
       "  </thead>\n",
       "  <tbody>\n",
       "    <tr>\n",
       "      <th>0</th>\n",
       "      <td>2025-01-07</td>\n",
       "      <td>2653.399902</td>\n",
       "      <td>2657.500000</td>\n",
       "      <td>2653.000000</td>\n",
       "      <td>2656.699951</td>\n",
       "      <td>643</td>\n",
       "      <td>Gold</td>\n",
       "      <td>GC=F</td>\n",
       "      <td>yfinance</td>\n",
       "      <td>1d</td>\n",
       "    </tr>\n",
       "    <tr>\n",
       "      <th>1</th>\n",
       "      <td>2025-01-08</td>\n",
       "      <td>2655.500000</td>\n",
       "      <td>2676.899902</td>\n",
       "      <td>2653.500000</td>\n",
       "      <td>2664.500000</td>\n",
       "      <td>999</td>\n",
       "      <td>Gold</td>\n",
       "      <td>GC=F</td>\n",
       "      <td>yfinance</td>\n",
       "      <td>1d</td>\n",
       "    </tr>\n",
       "    <tr>\n",
       "      <th>2</th>\n",
       "      <td>2025-01-09</td>\n",
       "      <td>2669.699951</td>\n",
       "      <td>2686.300049</td>\n",
       "      <td>2667.899902</td>\n",
       "      <td>2683.800049</td>\n",
       "      <td>1139</td>\n",
       "      <td>Gold</td>\n",
       "      <td>GC=F</td>\n",
       "      <td>yfinance</td>\n",
       "      <td>1d</td>\n",
       "    </tr>\n",
       "    <tr>\n",
       "      <th>3</th>\n",
       "      <td>2025-01-10</td>\n",
       "      <td>2686.100098</td>\n",
       "      <td>2720.100098</td>\n",
       "      <td>2683.699951</td>\n",
       "      <td>2708.500000</td>\n",
       "      <td>403</td>\n",
       "      <td>Gold</td>\n",
       "      <td>GC=F</td>\n",
       "      <td>yfinance</td>\n",
       "      <td>1d</td>\n",
       "    </tr>\n",
       "    <tr>\n",
       "      <th>4</th>\n",
       "      <td>2025-01-13</td>\n",
       "      <td>2711.100098</td>\n",
       "      <td>2711.199951</td>\n",
       "      <td>2673.500000</td>\n",
       "      <td>2673.500000</td>\n",
       "      <td>765</td>\n",
       "      <td>Gold</td>\n",
       "      <td>GC=F</td>\n",
       "      <td>yfinance</td>\n",
       "      <td>1d</td>\n",
       "    </tr>\n",
       "  </tbody>\n",
       "</table>\n",
       "</div>"
      ],
      "text/plain": [
       "        date         open         high          low        close  volume  \\\n",
       "0 2025-01-07  2653.399902  2657.500000  2653.000000  2656.699951     643   \n",
       "1 2025-01-08  2655.500000  2676.899902  2653.500000  2664.500000     999   \n",
       "2 2025-01-09  2669.699951  2686.300049  2667.899902  2683.800049    1139   \n",
       "3 2025-01-10  2686.100098  2720.100098  2683.699951  2708.500000     403   \n",
       "4 2025-01-13  2711.100098  2711.199951  2673.500000  2673.500000     765   \n",
       "\n",
       "   name ticker    source timeframe  \n",
       "0  Gold   GC=F  yfinance        1d  \n",
       "1  Gold   GC=F  yfinance        1d  \n",
       "2  Gold   GC=F  yfinance        1d  \n",
       "3  Gold   GC=F  yfinance        1d  \n",
       "4  Gold   GC=F  yfinance        1d  "
      ]
     },
     "execution_count": 7,
     "metadata": {},
     "output_type": "execute_result"
    }
   ],
   "source": [
    "data.head()"
   ]
  },
  {
   "cell_type": "code",
   "execution_count": 8,
   "id": "bc96cc0d",
   "metadata": {},
   "outputs": [],
   "source": [
    "from upload_db import upload_df_to_db"
   ]
  },
  {
   "cell_type": "code",
   "execution_count": 9,
   "id": "2b087c5e",
   "metadata": {},
   "outputs": [
    {
     "name": "stdout",
     "output_type": "stream",
     "text": [
      "Uploaded 250 rows to prices table in database at ../db/commodities.db\n"
     ]
    }
   ],
   "source": [
    "upload_df_to_db(data,\"../db/commodities.db\")"
   ]
  },
  {
   "cell_type": "code",
   "execution_count": 10,
   "id": "a125d549",
   "metadata": {},
   "outputs": [],
   "source": [
    "import sqlite3 as sql \n",
    "conn = sql.connect(\"../db/commodities.db\"\n",
    "                   )"
   ]
  },
  {
   "cell_type": "code",
   "execution_count": 12,
   "id": "a6b91cf2",
   "metadata": {},
   "outputs": [],
   "source": [
    "import pandas as pd\n",
    "df = pd.read_sql_query(\"SELECT * FROM prices;\", conn)"
   ]
  },
  {
   "cell_type": "code",
   "execution_count": 13,
   "id": "5b724f02",
   "metadata": {},
   "outputs": [
    {
     "data": {
      "text/html": [
       "<div>\n",
       "<style scoped>\n",
       "    .dataframe tbody tr th:only-of-type {\n",
       "        vertical-align: middle;\n",
       "    }\n",
       "\n",
       "    .dataframe tbody tr th {\n",
       "        vertical-align: top;\n",
       "    }\n",
       "\n",
       "    .dataframe thead th {\n",
       "        text-align: right;\n",
       "    }\n",
       "</style>\n",
       "<table border=\"1\" class=\"dataframe\">\n",
       "  <thead>\n",
       "    <tr style=\"text-align: right;\">\n",
       "      <th></th>\n",
       "      <th>id</th>\n",
       "      <th>ticker</th>\n",
       "      <th>date</th>\n",
       "      <th>open</th>\n",
       "      <th>high</th>\n",
       "      <th>low</th>\n",
       "      <th>close</th>\n",
       "      <th>volume</th>\n",
       "      <th>name</th>\n",
       "      <th>source</th>\n",
       "      <th>timeframe</th>\n",
       "    </tr>\n",
       "  </thead>\n",
       "  <tbody>\n",
       "    <tr>\n",
       "      <th>0</th>\n",
       "      <td>1</td>\n",
       "      <td>GC=F</td>\n",
       "      <td>2025-01-07 00:00:00</td>\n",
       "      <td>2653.399902</td>\n",
       "      <td>2657.500000</td>\n",
       "      <td>2653.000000</td>\n",
       "      <td>2656.699951</td>\n",
       "      <td>643.0</td>\n",
       "      <td>Gold</td>\n",
       "      <td>yfinance</td>\n",
       "      <td>1d</td>\n",
       "    </tr>\n",
       "    <tr>\n",
       "      <th>1</th>\n",
       "      <td>2</td>\n",
       "      <td>GC=F</td>\n",
       "      <td>2025-01-08 00:00:00</td>\n",
       "      <td>2655.500000</td>\n",
       "      <td>2676.899902</td>\n",
       "      <td>2653.500000</td>\n",
       "      <td>2664.500000</td>\n",
       "      <td>999.0</td>\n",
       "      <td>Gold</td>\n",
       "      <td>yfinance</td>\n",
       "      <td>1d</td>\n",
       "    </tr>\n",
       "    <tr>\n",
       "      <th>2</th>\n",
       "      <td>3</td>\n",
       "      <td>GC=F</td>\n",
       "      <td>2025-01-09 00:00:00</td>\n",
       "      <td>2669.699951</td>\n",
       "      <td>2686.300049</td>\n",
       "      <td>2667.899902</td>\n",
       "      <td>2683.800049</td>\n",
       "      <td>1139.0</td>\n",
       "      <td>Gold</td>\n",
       "      <td>yfinance</td>\n",
       "      <td>1d</td>\n",
       "    </tr>\n",
       "    <tr>\n",
       "      <th>3</th>\n",
       "      <td>4</td>\n",
       "      <td>GC=F</td>\n",
       "      <td>2025-01-10 00:00:00</td>\n",
       "      <td>2686.100098</td>\n",
       "      <td>2720.100098</td>\n",
       "      <td>2683.699951</td>\n",
       "      <td>2708.500000</td>\n",
       "      <td>403.0</td>\n",
       "      <td>Gold</td>\n",
       "      <td>yfinance</td>\n",
       "      <td>1d</td>\n",
       "    </tr>\n",
       "    <tr>\n",
       "      <th>4</th>\n",
       "      <td>5</td>\n",
       "      <td>GC=F</td>\n",
       "      <td>2025-01-13 00:00:00</td>\n",
       "      <td>2711.100098</td>\n",
       "      <td>2711.199951</td>\n",
       "      <td>2673.500000</td>\n",
       "      <td>2673.500000</td>\n",
       "      <td>765.0</td>\n",
       "      <td>Gold</td>\n",
       "      <td>yfinance</td>\n",
       "      <td>1d</td>\n",
       "    </tr>\n",
       "    <tr>\n",
       "      <th>...</th>\n",
       "      <td>...</td>\n",
       "      <td>...</td>\n",
       "      <td>...</td>\n",
       "      <td>...</td>\n",
       "      <td>...</td>\n",
       "      <td>...</td>\n",
       "      <td>...</td>\n",
       "      <td>...</td>\n",
       "      <td>...</td>\n",
       "      <td>...</td>\n",
       "      <td>...</td>\n",
       "    </tr>\n",
       "    <tr>\n",
       "      <th>245</th>\n",
       "      <td>246</td>\n",
       "      <td>CL=F</td>\n",
       "      <td>2025-07-01 00:00:00</td>\n",
       "      <td>64.959999</td>\n",
       "      <td>65.980003</td>\n",
       "      <td>64.669998</td>\n",
       "      <td>65.449997</td>\n",
       "      <td>193162.0</td>\n",
       "      <td>Crude Oil</td>\n",
       "      <td>yfinance</td>\n",
       "      <td>1d</td>\n",
       "    </tr>\n",
       "    <tr>\n",
       "      <th>246</th>\n",
       "      <td>247</td>\n",
       "      <td>CL=F</td>\n",
       "      <td>2025-07-02 00:00:00</td>\n",
       "      <td>65.559998</td>\n",
       "      <td>67.580002</td>\n",
       "      <td>65.230003</td>\n",
       "      <td>67.449997</td>\n",
       "      <td>265200.0</td>\n",
       "      <td>Crude Oil</td>\n",
       "      <td>yfinance</td>\n",
       "      <td>1d</td>\n",
       "    </tr>\n",
       "    <tr>\n",
       "      <th>247</th>\n",
       "      <td>248</td>\n",
       "      <td>CL=F</td>\n",
       "      <td>2025-07-03 00:00:00</td>\n",
       "      <td>67.500000</td>\n",
       "      <td>67.580002</td>\n",
       "      <td>66.529999</td>\n",
       "      <td>67.000000</td>\n",
       "      <td>0.0</td>\n",
       "      <td>Crude Oil</td>\n",
       "      <td>yfinance</td>\n",
       "      <td>1d</td>\n",
       "    </tr>\n",
       "    <tr>\n",
       "      <th>248</th>\n",
       "      <td>249</td>\n",
       "      <td>CL=F</td>\n",
       "      <td>2025-07-04 00:00:00</td>\n",
       "      <td>67.129997</td>\n",
       "      <td>67.180000</td>\n",
       "      <td>66.040001</td>\n",
       "      <td>66.500000</td>\n",
       "      <td>0.0</td>\n",
       "      <td>Crude Oil</td>\n",
       "      <td>yfinance</td>\n",
       "      <td>1d</td>\n",
       "    </tr>\n",
       "    <tr>\n",
       "      <th>249</th>\n",
       "      <td>250</td>\n",
       "      <td>CL=F</td>\n",
       "      <td>2025-07-07 00:00:00</td>\n",
       "      <td>65.699997</td>\n",
       "      <td>67.290001</td>\n",
       "      <td>65.400002</td>\n",
       "      <td>67.269997</td>\n",
       "      <td>67355.0</td>\n",
       "      <td>Crude Oil</td>\n",
       "      <td>yfinance</td>\n",
       "      <td>1d</td>\n",
       "    </tr>\n",
       "  </tbody>\n",
       "</table>\n",
       "<p>250 rows × 11 columns</p>\n",
       "</div>"
      ],
      "text/plain": [
       "      id ticker                 date         open         high          low  \\\n",
       "0      1   GC=F  2025-01-07 00:00:00  2653.399902  2657.500000  2653.000000   \n",
       "1      2   GC=F  2025-01-08 00:00:00  2655.500000  2676.899902  2653.500000   \n",
       "2      3   GC=F  2025-01-09 00:00:00  2669.699951  2686.300049  2667.899902   \n",
       "3      4   GC=F  2025-01-10 00:00:00  2686.100098  2720.100098  2683.699951   \n",
       "4      5   GC=F  2025-01-13 00:00:00  2711.100098  2711.199951  2673.500000   \n",
       "..   ...    ...                  ...          ...          ...          ...   \n",
       "245  246   CL=F  2025-07-01 00:00:00    64.959999    65.980003    64.669998   \n",
       "246  247   CL=F  2025-07-02 00:00:00    65.559998    67.580002    65.230003   \n",
       "247  248   CL=F  2025-07-03 00:00:00    67.500000    67.580002    66.529999   \n",
       "248  249   CL=F  2025-07-04 00:00:00    67.129997    67.180000    66.040001   \n",
       "249  250   CL=F  2025-07-07 00:00:00    65.699997    67.290001    65.400002   \n",
       "\n",
       "           close    volume       name    source timeframe  \n",
       "0    2656.699951     643.0       Gold  yfinance        1d  \n",
       "1    2664.500000     999.0       Gold  yfinance        1d  \n",
       "2    2683.800049    1139.0       Gold  yfinance        1d  \n",
       "3    2708.500000     403.0       Gold  yfinance        1d  \n",
       "4    2673.500000     765.0       Gold  yfinance        1d  \n",
       "..           ...       ...        ...       ...       ...  \n",
       "245    65.449997  193162.0  Crude Oil  yfinance        1d  \n",
       "246    67.449997  265200.0  Crude Oil  yfinance        1d  \n",
       "247    67.000000       0.0  Crude Oil  yfinance        1d  \n",
       "248    66.500000       0.0  Crude Oil  yfinance        1d  \n",
       "249    67.269997   67355.0  Crude Oil  yfinance        1d  \n",
       "\n",
       "[250 rows x 11 columns]"
      ]
     },
     "execution_count": 13,
     "metadata": {},
     "output_type": "execute_result"
    }
   ],
   "source": [
    "df"
   ]
  },
  {
   "cell_type": "code",
   "execution_count": 14,
   "id": "0a0b5993",
   "metadata": {},
   "outputs": [],
   "source": [
    "conn.close()"
   ]
  },
  {
   "cell_type": "code",
   "execution_count": null,
   "id": "de9b9e72",
   "metadata": {},
   "outputs": [],
   "source": []
  }
 ],
 "metadata": {
  "kernelspec": {
   "display_name": "env_commodity_lab",
   "language": "python",
   "name": "python3"
  },
  "language_info": {
   "codemirror_mode": {
    "name": "ipython",
    "version": 3
   },
   "file_extension": ".py",
   "mimetype": "text/x-python",
   "name": "python",
   "nbconvert_exporter": "python",
   "pygments_lexer": "ipython3",
   "version": "3.12.2"
  }
 },
 "nbformat": 4,
 "nbformat_minor": 5
}
