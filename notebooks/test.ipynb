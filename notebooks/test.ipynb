{
 "cells": [
  {
   "cell_type": "markdown",
   "id": "aa3582d9",
   "metadata": {},
   "source": [
    "# Still Testing :)"
   ]
  },
  {
   "cell_type": "code",
   "execution_count": 5,
   "id": "777dbe42",
   "metadata": {},
   "outputs": [
    {
     "name": "stdout",
     "output_type": "stream",
     "text": [
      "c:\\Users\\dgalassi\\commodity_lab\\notebooks\n",
      "['.gitkeep', 'data_loader.py', '__pycache__']\n"
     ]
    }
   ],
   "source": [
    "import os\n",
    "print(os.getcwd())\n",
    "print(os.listdir('../scripts'))"
   ]
  },
  {
   "cell_type": "code",
   "execution_count": null,
   "id": "20a9c7a3",
   "metadata": {},
   "outputs": [],
   "source": [
    "import sys\n",
    "sys.path.append('../scripts')\n",
    "from data_loader import load_data\n",
    "df = load_data('../data/raw/btc_1d_data_2018_to_2025.csv')\n"
   ]
  },
  {
   "cell_type": "code",
   "execution_count": 8,
   "id": "cde5d3cc",
   "metadata": {},
   "outputs": [
    {
     "data": {
      "text/html": [
       "<div>\n",
       "<style scoped>\n",
       "    .dataframe tbody tr th:only-of-type {\n",
       "        vertical-align: middle;\n",
       "    }\n",
       "\n",
       "    .dataframe tbody tr th {\n",
       "        vertical-align: top;\n",
       "    }\n",
       "\n",
       "    .dataframe thead th {\n",
       "        text-align: right;\n",
       "    }\n",
       "</style>\n",
       "<table border=\"1\" class=\"dataframe\">\n",
       "  <thead>\n",
       "    <tr style=\"text-align: right;\">\n",
       "      <th></th>\n",
       "      <th>Open time</th>\n",
       "      <th>Open</th>\n",
       "      <th>High</th>\n",
       "      <th>Low</th>\n",
       "      <th>Close</th>\n",
       "      <th>Volume</th>\n",
       "      <th>Close time</th>\n",
       "      <th>Quote asset volume</th>\n",
       "      <th>Number of trades</th>\n",
       "      <th>Taker buy base asset volume</th>\n",
       "      <th>Taker buy quote asset volume</th>\n",
       "      <th>Ignore</th>\n",
       "    </tr>\n",
       "  </thead>\n",
       "  <tbody>\n",
       "    <tr>\n",
       "      <th>0</th>\n",
       "      <td>2018-01-01</td>\n",
       "      <td>13715.65</td>\n",
       "      <td>13818.55</td>\n",
       "      <td>12750.00</td>\n",
       "      <td>13380.00</td>\n",
       "      <td>8609.915844</td>\n",
       "      <td>2018-01-01 23:59:59.999</td>\n",
       "      <td>1.147997e+08</td>\n",
       "      <td>105595</td>\n",
       "      <td>3961.938946</td>\n",
       "      <td>5.280975e+07</td>\n",
       "      <td>0</td>\n",
       "    </tr>\n",
       "    <tr>\n",
       "      <th>1</th>\n",
       "      <td>2018-01-02</td>\n",
       "      <td>13382.16</td>\n",
       "      <td>15473.49</td>\n",
       "      <td>12890.02</td>\n",
       "      <td>14675.11</td>\n",
       "      <td>20078.092111</td>\n",
       "      <td>2018-01-02 23:59:59.999</td>\n",
       "      <td>2.797171e+08</td>\n",
       "      <td>177728</td>\n",
       "      <td>11346.326739</td>\n",
       "      <td>1.580801e+08</td>\n",
       "      <td>0</td>\n",
       "    </tr>\n",
       "    <tr>\n",
       "      <th>2</th>\n",
       "      <td>2018-01-03</td>\n",
       "      <td>14690.00</td>\n",
       "      <td>15307.56</td>\n",
       "      <td>14150.00</td>\n",
       "      <td>14919.51</td>\n",
       "      <td>15905.667639</td>\n",
       "      <td>2018-01-03 23:59:59.999</td>\n",
       "      <td>2.361169e+08</td>\n",
       "      <td>162787</td>\n",
       "      <td>8994.953566</td>\n",
       "      <td>1.335873e+08</td>\n",
       "      <td>0</td>\n",
       "    </tr>\n",
       "    <tr>\n",
       "      <th>3</th>\n",
       "      <td>2018-01-04</td>\n",
       "      <td>14919.51</td>\n",
       "      <td>15280.00</td>\n",
       "      <td>13918.04</td>\n",
       "      <td>15059.54</td>\n",
       "      <td>21329.649574</td>\n",
       "      <td>2018-01-04 23:59:59.999</td>\n",
       "      <td>3.127816e+08</td>\n",
       "      <td>170310</td>\n",
       "      <td>12680.812951</td>\n",
       "      <td>1.861168e+08</td>\n",
       "      <td>0</td>\n",
       "    </tr>\n",
       "    <tr>\n",
       "      <th>4</th>\n",
       "      <td>2018-01-05</td>\n",
       "      <td>15059.56</td>\n",
       "      <td>17176.24</td>\n",
       "      <td>14600.00</td>\n",
       "      <td>16960.39</td>\n",
       "      <td>23251.491125</td>\n",
       "      <td>2018-01-05 23:59:59.999</td>\n",
       "      <td>3.693220e+08</td>\n",
       "      <td>192969</td>\n",
       "      <td>13346.622293</td>\n",
       "      <td>2.118299e+08</td>\n",
       "      <td>0</td>\n",
       "    </tr>\n",
       "  </tbody>\n",
       "</table>\n",
       "</div>"
      ],
      "text/plain": [
       "    Open time      Open      High       Low     Close        Volume  \\\n",
       "0  2018-01-01  13715.65  13818.55  12750.00  13380.00   8609.915844   \n",
       "1  2018-01-02  13382.16  15473.49  12890.02  14675.11  20078.092111   \n",
       "2  2018-01-03  14690.00  15307.56  14150.00  14919.51  15905.667639   \n",
       "3  2018-01-04  14919.51  15280.00  13918.04  15059.54  21329.649574   \n",
       "4  2018-01-05  15059.56  17176.24  14600.00  16960.39  23251.491125   \n",
       "\n",
       "                Close time  Quote asset volume  Number of trades  \\\n",
       "0  2018-01-01 23:59:59.999        1.147997e+08            105595   \n",
       "1  2018-01-02 23:59:59.999        2.797171e+08            177728   \n",
       "2  2018-01-03 23:59:59.999        2.361169e+08            162787   \n",
       "3  2018-01-04 23:59:59.999        3.127816e+08            170310   \n",
       "4  2018-01-05 23:59:59.999        3.693220e+08            192969   \n",
       "\n",
       "   Taker buy base asset volume  Taker buy quote asset volume  Ignore  \n",
       "0                  3961.938946                  5.280975e+07       0  \n",
       "1                 11346.326739                  1.580801e+08       0  \n",
       "2                  8994.953566                  1.335873e+08       0  \n",
       "3                 12680.812951                  1.861168e+08       0  \n",
       "4                 13346.622293                  2.118299e+08       0  "
      ]
     },
     "execution_count": 8,
     "metadata": {},
     "output_type": "execute_result"
    }
   ],
   "source": [
    "df.head()"
   ]
  },
  {
   "cell_type": "code",
   "execution_count": null,
   "id": "a4894490",
   "metadata": {},
   "outputs": [],
   "source": []
  }
 ],
 "metadata": {
  "kernelspec": {
   "display_name": "env_commodity_lab",
   "language": "python",
   "name": "python3"
  },
  "language_info": {
   "codemirror_mode": {
    "name": "ipython",
    "version": 3
   },
   "file_extension": ".py",
   "mimetype": "text/x-python",
   "name": "python",
   "nbconvert_exporter": "python",
   "pygments_lexer": "ipython3",
   "version": "3.12.2"
  }
 },
 "nbformat": 4,
 "nbformat_minor": 5
}
