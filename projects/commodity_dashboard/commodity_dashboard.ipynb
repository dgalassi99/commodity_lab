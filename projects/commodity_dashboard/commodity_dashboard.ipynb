{
 "cells": [
  {
   "cell_type": "markdown",
   "id": "8df0ada4",
   "metadata": {},
   "source": [
    "# Commodity Dashboard"
   ]
  },
  {
   "cell_type": "markdown",
   "id": "983dcf80",
   "metadata": {},
   "source": [
    "## Importing Data, Libraries and Scripts\n",
    "\n",
    "Data is stored into commodity_lab/db/commodities.db "
   ]
  },
  {
   "cell_type": "code",
   "execution_count": 8,
   "id": "35605093",
   "metadata": {},
   "outputs": [
    {
     "name": "stdout",
     "output_type": "stream",
     "text": [
      "c:\\Users\\dgalassi\\commodity_lab\\env_commodity_lab\\Scripts\\python.exe\n"
     ]
    }
   ],
   "source": [
    "import sys\n",
    "print(sys.executable)"
   ]
  },
  {
   "cell_type": "code",
   "execution_count": 10,
   "id": "aabf6d1c",
   "metadata": {},
   "outputs": [],
   "source": [
    "import pandas as pd\n",
    "import numpy as np\n",
    "import matplotlib.pyplot as plt\n",
    "import plotly as ply\n",
    "import seaborn as sns\n",
    "import sys"
   ]
  },
  {
   "cell_type": "code",
   "execution_count": null,
   "id": "df9efd99",
   "metadata": {},
   "outputs": [],
   "source": [
    "#update the database with the most recent data\n",
    "sys.path.append('../../scripts')\n",
    "from update_commodities_data import update_commodities\n",
    "\n",
    "#tickers i want to update\n",
    "tickers = {\n",
    "    \"Gold\": \"GC=F\",\n",
    "    \"Silver\": \"SI=F\",\n",
    "    \"Crude Oil\": \"CL=F\",\n",
    "    \"Natural Gas\": \"NG=F\",\n",
    "    \"Copper\": \"HG=F\",\n",
    "    \"Corn\": \"ZC=F\",\n",
    "    \"Wheat\": \"ZW=F\"\n",
    "}\n",
    "update_commodities(tickers)"
   ]
  },
  {
   "cell_type": "code",
   "execution_count": 15,
   "id": "fdf71a06",
   "metadata": {},
   "outputs": [],
   "source": [
    "#connect to commodities db \n",
    "import sqlite3 as sql\n",
    "\n",
    "#enstablish a connection\n",
    "conn = sql.connect(\"../../db/commodities.db\")\n",
    "df = pd.read_sql('SELECT * FROM prices',conn)\n",
    "conn.close()"
   ]
  },
  {
   "cell_type": "markdown",
   "id": "f722123b",
   "metadata": {},
   "source": [
    "## Analyze the Dataset"
   ]
  },
  {
   "cell_type": "markdown",
   "id": "40265e58",
   "metadata": {},
   "source": [
    "1. Price Trends & Returns\n",
    "\n",
    "Line charts of price history for key commodities\n",
    "\n",
    "% change over multiple time horizons (1 day, 5 days, 1 month, 1 year)\n",
    "\n",
    "Quick summary stats (last price, daily return, volatility)\n",
    "\n",
    "2. Volatility & Risk Metrics\n",
    "\n",
    "Rolling volatility (e.g., 30-day std dev)\n",
    "\n",
    "Maybe Value at Risk (VaR) or drawdowns for the bigger picture risk view\n",
    "\n",
    "3. Correlations\n",
    "\n",
    "Heatmap or matrix showing correlation between commodities over the past month or quarter — helps PMs see diversification or contagion\n",
    "\n",
    "4. Volume & Liquidity\n",
    "\n",
    "Volume trends, so they know where the market interest is\n",
    "\n",
    "5. Alerts or Significant Moves\n",
    "\n",
    "Highlight big moves or breakouts (e.g., +3% daily move)\n",
    "\n",
    "Could be a simple “flag” or conditional formatting\n",
    "\n",
    "6. Comparative Analysis\n",
    "\n",
    "Commodities side-by-side to see which are outperforming"
   ]
  },
  {
   "cell_type": "markdown",
   "id": "5a7d8e3e",
   "metadata": {},
   "source": [
    "### Price Trends and Returns"
   ]
  },
  {
   "cell_type": "code",
   "execution_count": 28,
   "id": "4c2a3866",
   "metadata": {},
   "outputs": [
    {
     "name": "stderr",
     "output_type": "stream",
     "text": [
      "C:\\Users\\dgalassi\\AppData\\Local\\Temp\\ipykernel_9952\\911365896.py:2: SettingWithCopyWarning:\n",
      "\n",
      "\n",
      "A value is trying to be set on a copy of a slice from a DataFrame.\n",
      "Try using .loc[row_indexer,col_indexer] = value instead\n",
      "\n",
      "See the caveats in the documentation: https://pandas.pydata.org/pandas-docs/stable/user_guide/indexing.html#returning-a-view-versus-a-copy\n",
      "\n"
     ]
    },
    {
     "data": {
      "text/html": [
       "<div>\n",
       "<style scoped>\n",
       "    .dataframe tbody tr th:only-of-type {\n",
       "        vertical-align: middle;\n",
       "    }\n",
       "\n",
       "    .dataframe tbody tr th {\n",
       "        vertical-align: top;\n",
       "    }\n",
       "\n",
       "    .dataframe thead th {\n",
       "        text-align: right;\n",
       "    }\n",
       "</style>\n",
       "<table border=\"1\" class=\"dataframe\">\n",
       "  <thead>\n",
       "    <tr style=\"text-align: right;\">\n",
       "      <th></th>\n",
       "      <th>date</th>\n",
       "      <th>name</th>\n",
       "      <th>close</th>\n",
       "    </tr>\n",
       "  </thead>\n",
       "  <tbody>\n",
       "    <tr>\n",
       "      <th>0</th>\n",
       "      <td>2025-01-07</td>\n",
       "      <td>Gold</td>\n",
       "      <td>2656.699951</td>\n",
       "    </tr>\n",
       "    <tr>\n",
       "      <th>1</th>\n",
       "      <td>2025-01-08</td>\n",
       "      <td>Gold</td>\n",
       "      <td>2664.500000</td>\n",
       "    </tr>\n",
       "    <tr>\n",
       "      <th>2</th>\n",
       "      <td>2025-01-09</td>\n",
       "      <td>Gold</td>\n",
       "      <td>2683.800049</td>\n",
       "    </tr>\n",
       "    <tr>\n",
       "      <th>3</th>\n",
       "      <td>2025-01-10</td>\n",
       "      <td>Gold</td>\n",
       "      <td>2708.500000</td>\n",
       "    </tr>\n",
       "    <tr>\n",
       "      <th>4</th>\n",
       "      <td>2025-01-13</td>\n",
       "      <td>Gold</td>\n",
       "      <td>2673.500000</td>\n",
       "    </tr>\n",
       "  </tbody>\n",
       "</table>\n",
       "</div>"
      ],
      "text/plain": [
       "        date  name        close\n",
       "0 2025-01-07  Gold  2656.699951\n",
       "1 2025-01-08  Gold  2664.500000\n",
       "2 2025-01-09  Gold  2683.800049\n",
       "3 2025-01-10  Gold  2708.500000\n",
       "4 2025-01-13  Gold  2673.500000"
      ]
     },
     "execution_count": 28,
     "metadata": {},
     "output_type": "execute_result"
    }
   ],
   "source": [
    "df_prices = df[['date','name','close']]\n",
    "df_prices['date'] = pd.to_datetime(df.date)\n",
    "df_prices.head()"
   ]
  },
  {
   "cell_type": "code",
   "execution_count": 29,
   "id": "1485c175",
   "metadata": {},
   "outputs": [
    {
     "name": "stdout",
     "output_type": "stream",
     "text": [
      "(252, 7)\n"
     ]
    },
    {
     "data": {
      "text/html": [
       "<div>\n",
       "<style scoped>\n",
       "    .dataframe tbody tr th:only-of-type {\n",
       "        vertical-align: middle;\n",
       "    }\n",
       "\n",
       "    .dataframe tbody tr th {\n",
       "        vertical-align: top;\n",
       "    }\n",
       "\n",
       "    .dataframe thead th {\n",
       "        text-align: right;\n",
       "    }\n",
       "</style>\n",
       "<table border=\"1\" class=\"dataframe\">\n",
       "  <thead>\n",
       "    <tr style=\"text-align: right;\">\n",
       "      <th>name</th>\n",
       "      <th>Copper</th>\n",
       "      <th>Corn</th>\n",
       "      <th>Crude Oil</th>\n",
       "      <th>Gold</th>\n",
       "      <th>Natural Gas</th>\n",
       "      <th>Silver</th>\n",
       "      <th>Wheat</th>\n",
       "    </tr>\n",
       "    <tr>\n",
       "      <th>date</th>\n",
       "      <th></th>\n",
       "      <th></th>\n",
       "      <th></th>\n",
       "      <th></th>\n",
       "      <th></th>\n",
       "      <th></th>\n",
       "      <th></th>\n",
       "    </tr>\n",
       "  </thead>\n",
       "  <tbody>\n",
       "    <tr>\n",
       "      <th>2024-07-08</th>\n",
       "      <td>4.6220</td>\n",
       "      <td>395.75</td>\n",
       "      <td>82.330002</td>\n",
       "      <td>2355.199951</td>\n",
       "      <td>2.366</td>\n",
       "      <td>30.618000</td>\n",
       "      <td>553.00</td>\n",
       "    </tr>\n",
       "    <tr>\n",
       "      <th>2024-07-09</th>\n",
       "      <td>4.5780</td>\n",
       "      <td>400.25</td>\n",
       "      <td>81.410004</td>\n",
       "      <td>2360.100098</td>\n",
       "      <td>2.344</td>\n",
       "      <td>30.771999</td>\n",
       "      <td>554.25</td>\n",
       "    </tr>\n",
       "    <tr>\n",
       "      <th>2024-07-10</th>\n",
       "      <td>4.6075</td>\n",
       "      <td>403.25</td>\n",
       "      <td>82.099998</td>\n",
       "      <td>2372.199951</td>\n",
       "      <td>2.329</td>\n",
       "      <td>30.726999</td>\n",
       "      <td>543.50</td>\n",
       "    </tr>\n",
       "    <tr>\n",
       "      <th>2024-07-11</th>\n",
       "      <td>4.5085</td>\n",
       "      <td>406.75</td>\n",
       "      <td>82.620003</td>\n",
       "      <td>2415.000000</td>\n",
       "      <td>2.268</td>\n",
       "      <td>31.393999</td>\n",
       "      <td>554.25</td>\n",
       "    </tr>\n",
       "    <tr>\n",
       "      <th>2024-07-12</th>\n",
       "      <td>4.5985</td>\n",
       "      <td>400.00</td>\n",
       "      <td>82.209999</td>\n",
       "      <td>2414.000000</td>\n",
       "      <td>2.329</td>\n",
       "      <td>30.886000</td>\n",
       "      <td>538.00</td>\n",
       "    </tr>\n",
       "  </tbody>\n",
       "</table>\n",
       "</div>"
      ],
      "text/plain": [
       "name        Copper    Corn  Crude Oil         Gold  Natural Gas     Silver  \\\n",
       "date                                                                         \n",
       "2024-07-08  4.6220  395.75  82.330002  2355.199951        2.366  30.618000   \n",
       "2024-07-09  4.5780  400.25  81.410004  2360.100098        2.344  30.771999   \n",
       "2024-07-10  4.6075  403.25  82.099998  2372.199951        2.329  30.726999   \n",
       "2024-07-11  4.5085  406.75  82.620003  2415.000000        2.268  31.393999   \n",
       "2024-07-12  4.5985  400.00  82.209999  2414.000000        2.329  30.886000   \n",
       "\n",
       "name         Wheat  \n",
       "date                \n",
       "2024-07-08  553.00  \n",
       "2024-07-09  554.25  \n",
       "2024-07-10  543.50  \n",
       "2024-07-11  554.25  \n",
       "2024-07-12  538.00  "
      ]
     },
     "execution_count": 29,
     "metadata": {},
     "output_type": "execute_result"
    }
   ],
   "source": [
    "df_wide = df_prices.pivot(index='date',columns='name',values = 'close')\n",
    "print(df_wide.shape)\n",
    "df_wide.head()"
   ]
  },
  {
   "cell_type": "code",
   "execution_count": null,
   "id": "3262a11e",
   "metadata": {},
   "outputs": [
    {
     "data": {
      "text/plain": [
       "date\n",
       "2024-07-08         NaN\n",
       "2024-07-09         NaN\n",
       "2024-07-10         NaN\n",
       "2024-07-11         NaN\n",
       "2024-07-12         NaN\n",
       "                ...   \n",
       "2025-07-01    0.037189\n",
       "2025-07-02    0.048036\n",
       "2025-07-03    0.006219\n",
       "2025-07-04   -0.009865\n",
       "2025-07-07   -0.003976\n",
       "Name: Copper, Length: 252, dtype: float64"
      ]
     },
     "execution_count": 32,
     "metadata": {},
     "output_type": "execute_result"
    }
   ],
   "source": [
    "df_wid"
   ]
  },
  {
   "cell_type": "code",
   "execution_count": null,
   "id": "3ab2fb86",
   "metadata": {},
   "outputs": [],
   "source": [
    "import plotly.express as px\n"
   ]
  }
 ],
 "metadata": {
  "kernelspec": {
   "display_name": "env_commodity_lab",
   "language": "python",
   "name": "python3"
  },
  "language_info": {
   "codemirror_mode": {
    "name": "ipython",
    "version": 3
   },
   "file_extension": ".py",
   "mimetype": "text/x-python",
   "name": "python",
   "nbconvert_exporter": "python",
   "pygments_lexer": "ipython3",
   "version": "3.12.2"
  }
 },
 "nbformat": 4,
 "nbformat_minor": 5
}
