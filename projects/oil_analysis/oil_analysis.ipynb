{
 "cells": [
  {
   "cell_type": "markdown",
   "id": "72df9d12",
   "metadata": {},
   "source": [
    "# Analying Oil Futures Market\n",
    "\n",
    "The goal is to quantitative insights into crude oil price behavior and market dynamics, to support trading decisions and risk management."
   ]
  },
  {
   "cell_type": "code",
   "execution_count": null,
   "id": "c1a9caf4",
   "metadata": {},
   "outputs": [],
   "source": [
    "#importing base packages\n",
    "import pandas as pd\n",
    "import numpy as np\n",
    "import yfinance as yf\n",
    "import matplotlib.pyplot as plt\n",
    "import seaborn as sns"
   ]
  },
  {
   "cell_type": "markdown",
   "id": "75dd35a7",
   "metadata": {},
   "source": [
    "0. Find relevant data and process it\n",
    "\n",
    "1. Price & Volatility Analysis\n",
    "\n",
    "- Analyze historical price trends using continuous futures data (daily OHLC)\n",
    "\n",
    "- Calculate rolling volatility (e.g., 30-day, 90-day) and identify volatility regimes\n",
    "\n",
    "- Identify seasonal patterns and correlations with key economic events\n",
    "\n",
    "2. Roll Yield Approximation\n",
    "\n",
    "- Estimate roll yield behavior using price changes in continuous futures\n",
    "\n",
    "- Understand impact of contango/backwardation dynamics indirectly from data\n",
    "\n",
    "3. Return Distribution & Risk Metrics\n",
    "\n",
    "- Compute return distributions over different time scales (daily, weekly, monthly)\n",
    "\n",
    "- Measure risk metrics like Value-at-Risk (VaR), Conditional VaR (CVaR)\n",
    "\n",
    "4. Event Studies\n",
    "\n",
    "- Analyze price/volatility reaction around major oil market events (OPEC meetings, geopolitical shocks)\n",
    "\n",
    "5. Strategy Development & Backtesting\n",
    "\n",
    "- Prototype simple trading or hedging strategies (momentum, mean reversion, volatility breakout) based on continuous futures data\n",
    "\n",
    "- Backtest strategies and evaluate performance metrics (returns, Sharpe ratio, drawdown)\n",
    "\n",
    "6. Reporting & Visualization\n",
    "\n",
    "- Create dashboards or notebooks to visualize key insights (price, volatility, returns, event impacts)\n",
    "\n",
    "- Summarize findings in clear, business-oriented reports with actionable recommendations"
   ]
  },
  {
   "cell_type": "markdown",
   "id": "dadfab88",
   "metadata": {},
   "source": [
    "## Data Retrieving and Processing"
   ]
  },
  {
   "cell_type": "code",
   "execution_count": null,
   "id": "1d9023b3",
   "metadata": {},
   "outputs": [
    {
     "name": "stdout",
     "output_type": "stream",
     "text": [
      "c:\\Users\\dgalassi\\commodity_lab\\projects\\oil_analysis\n",
      "['.gitkeep', 'data_loader.py', 'fetch_yf_data.py', 'setup_db.py', 'update_commodities_data.py', 'upload_db.py', '__pycache__']\n"
     ]
    }
   ],
   "source": [
    "#use a script created to fetch yfinance data\n",
    "\n",
    "#get to the path\n",
    "\n",
    "#check where the script function is located\n",
    "import os\n",
    "print(os.getcwd())\n",
    "print(os.listdir('../../scripts'))\n",
    "\n",
    "#get to the helper function\n",
    "import sys\n",
    "sys.path.append('../../scripts')\n",
    "#import the function\n",
    "from fetch_yf_data import fetch_data\n",
    "\n",
    "#now we can call fetch_data to get data from yf API"
   ]
  },
  {
   "cell_type": "code",
   "execution_count": 6,
   "id": "b94dc102",
   "metadata": {},
   "outputs": [
    {
     "name": "stdout",
     "output_type": "stream",
     "text": [
      "Fetching  data for Oil (CL=F) - Period: 20y, Interval: 1d\n"
     ]
    },
    {
     "name": "stderr",
     "output_type": "stream",
     "text": [
      "c:\\Users\\dgalassi\\commodity_lab\\projects\\oil_analysis\\../../scripts\\fetch_yf_data.py:34: FutureWarning: YF.download() has changed argument auto_adjust default to True\n",
      "  data = yf.download(ticker, period=period, interval=interval)\n",
      "[*********************100%***********************]  1 of 1 completed\n"
     ]
    }
   ],
   "source": [
    "#define the ticker/tickers we want to extract. For now only oil futures (CL=F)\n",
    "\n",
    "#inputs to the function\n",
    "tickers = {'Oil':'CL=F'}\n",
    "period = '20y' # 20 years of data\n",
    "interval = '1d' #we want daily timeframe\n",
    "\n",
    "data = fetch_data(tickers,period=period,interval=interval)"
   ]
  },
  {
   "cell_type": "code",
   "execution_count": 29,
   "id": "27515b09",
   "metadata": {},
   "outputs": [
    {
     "name": "stdout",
     "output_type": "stream",
     "text": [
      "---------------- Main info about the data ----------------\n",
      "The dataframe has 5032 rows and 10 columns \n",
      "The dataframe spans from 2005-07-18 00:00:00 to 2025-07-18 00:00:00 with timeframe of 1 day\n",
      "The dataframe contains the following columns:['date', 'open', 'high', 'low', 'close', 'volume', 'name', 'ticker', 'source', 'timeframe']\n",
      "----------------------------------------------------------\n",
      "You can visualize the first rows of the Dataframe...\n"
     ]
    },
    {
     "data": {
      "text/html": [
       "<div>\n",
       "<style scoped>\n",
       "    .dataframe tbody tr th:only-of-type {\n",
       "        vertical-align: middle;\n",
       "    }\n",
       "\n",
       "    .dataframe tbody tr th {\n",
       "        vertical-align: top;\n",
       "    }\n",
       "\n",
       "    .dataframe thead th {\n",
       "        text-align: right;\n",
       "    }\n",
       "</style>\n",
       "<table border=\"1\" class=\"dataframe\">\n",
       "  <thead>\n",
       "    <tr style=\"text-align: right;\">\n",
       "      <th></th>\n",
       "      <th>date</th>\n",
       "      <th>open</th>\n",
       "      <th>high</th>\n",
       "      <th>low</th>\n",
       "      <th>close</th>\n",
       "      <th>volume</th>\n",
       "      <th>name</th>\n",
       "      <th>ticker</th>\n",
       "      <th>source</th>\n",
       "      <th>timeframe</th>\n",
       "    </tr>\n",
       "  </thead>\n",
       "  <tbody>\n",
       "    <tr>\n",
       "      <th>0</th>\n",
       "      <td>2005-07-18</td>\n",
       "      <td>58.000000</td>\n",
       "      <td>58.980000</td>\n",
       "      <td>56.799999</td>\n",
       "      <td>57.320000</td>\n",
       "      <td>76097</td>\n",
       "      <td>Oil</td>\n",
       "      <td>CL=F</td>\n",
       "      <td>yfinance</td>\n",
       "      <td>1d</td>\n",
       "    </tr>\n",
       "    <tr>\n",
       "      <th>1</th>\n",
       "      <td>2005-07-19</td>\n",
       "      <td>57.250000</td>\n",
       "      <td>57.770000</td>\n",
       "      <td>56.799999</td>\n",
       "      <td>57.459999</td>\n",
       "      <td>85894</td>\n",
       "      <td>Oil</td>\n",
       "      <td>CL=F</td>\n",
       "      <td>yfinance</td>\n",
       "      <td>1d</td>\n",
       "    </tr>\n",
       "    <tr>\n",
       "      <th>2</th>\n",
       "      <td>2005-07-20</td>\n",
       "      <td>57.380001</td>\n",
       "      <td>58.299999</td>\n",
       "      <td>56.099998</td>\n",
       "      <td>56.720001</td>\n",
       "      <td>145901</td>\n",
       "      <td>Oil</td>\n",
       "      <td>CL=F</td>\n",
       "      <td>yfinance</td>\n",
       "      <td>1d</td>\n",
       "    </tr>\n",
       "    <tr>\n",
       "      <th>3</th>\n",
       "      <td>2005-07-21</td>\n",
       "      <td>58.150002</td>\n",
       "      <td>58.169998</td>\n",
       "      <td>56.500000</td>\n",
       "      <td>57.130001</td>\n",
       "      <td>106235</td>\n",
       "      <td>Oil</td>\n",
       "      <td>CL=F</td>\n",
       "      <td>yfinance</td>\n",
       "      <td>1d</td>\n",
       "    </tr>\n",
       "    <tr>\n",
       "      <th>4</th>\n",
       "      <td>2005-07-22</td>\n",
       "      <td>57.270000</td>\n",
       "      <td>58.700001</td>\n",
       "      <td>57.130001</td>\n",
       "      <td>58.650002</td>\n",
       "      <td>83067</td>\n",
       "      <td>Oil</td>\n",
       "      <td>CL=F</td>\n",
       "      <td>yfinance</td>\n",
       "      <td>1d</td>\n",
       "    </tr>\n",
       "  </tbody>\n",
       "</table>\n",
       "</div>"
      ],
      "text/plain": [
       "        date       open       high        low      close  volume name ticker  \\\n",
       "0 2005-07-18  58.000000  58.980000  56.799999  57.320000   76097  Oil   CL=F   \n",
       "1 2005-07-19  57.250000  57.770000  56.799999  57.459999   85894  Oil   CL=F   \n",
       "2 2005-07-20  57.380001  58.299999  56.099998  56.720001  145901  Oil   CL=F   \n",
       "3 2005-07-21  58.150002  58.169998  56.500000  57.130001  106235  Oil   CL=F   \n",
       "4 2005-07-22  57.270000  58.700001  57.130001  58.650002   83067  Oil   CL=F   \n",
       "\n",
       "     source timeframe  \n",
       "0  yfinance        1d  \n",
       "1  yfinance        1d  \n",
       "2  yfinance        1d  \n",
       "3  yfinance        1d  \n",
       "4  yfinance        1d  "
      ]
     },
     "execution_count": 29,
     "metadata": {},
     "output_type": "execute_result"
    }
   ],
   "source": [
    "#now we extracted the data from yf.\n",
    "#the script created will extract and automatically format it into a nice table with colums\n",
    "\n",
    "#some stuff so that the user can have an idea of what the data is about\n",
    "column_names = []\n",
    "for col in data.columns:\n",
    "    column_names.append(col)\n",
    "\n",
    "print('---------------- Main info about the data ----------------')\n",
    "\n",
    "print(f'The dataframe has {data.shape[0]} rows and {data.shape[1]} columns ')\n",
    "print(f'The dataframe spans from {data.date.iloc[0]} to {data.date.iloc[-1]} with timeframe of {interval[0]} day')\n",
    "print(f'The dataframe contains the following columns:{column_names}')\n",
    "\n",
    "print('----------------------------------------------------------')\n",
    "\n",
    "print('You can visualize the first rows of the Dataframe...')\n",
    "data.head()"
   ]
  },
  {
   "cell_type": "code",
   "execution_count": 38,
   "id": "93990b3d",
   "metadata": {},
   "outputs": [
    {
     "name": "stdout",
     "output_type": "stream",
     "text": [
      "------------ Reduce to necessary data ---------------\n",
      "Make sure there are no missing data ...\n",
      "date      0\n",
      "open      0\n",
      "high      0\n",
      "low       0\n",
      "close     0\n",
      "volume    0\n",
      "name      0\n",
      "dtype: int64\n"
     ]
    },
    {
     "data": {
      "text/html": [
       "<div>\n",
       "<style scoped>\n",
       "    .dataframe tbody tr th:only-of-type {\n",
       "        vertical-align: middle;\n",
       "    }\n",
       "\n",
       "    .dataframe tbody tr th {\n",
       "        vertical-align: top;\n",
       "    }\n",
       "\n",
       "    .dataframe thead th {\n",
       "        text-align: right;\n",
       "    }\n",
       "</style>\n",
       "<table border=\"1\" class=\"dataframe\">\n",
       "  <thead>\n",
       "    <tr style=\"text-align: right;\">\n",
       "      <th></th>\n",
       "      <th>date</th>\n",
       "      <th>open</th>\n",
       "      <th>high</th>\n",
       "      <th>low</th>\n",
       "      <th>close</th>\n",
       "      <th>volume</th>\n",
       "      <th>name</th>\n",
       "    </tr>\n",
       "  </thead>\n",
       "  <tbody>\n",
       "    <tr>\n",
       "      <th>0</th>\n",
       "      <td>2005-07-18</td>\n",
       "      <td>58.000000</td>\n",
       "      <td>58.980000</td>\n",
       "      <td>56.799999</td>\n",
       "      <td>57.320000</td>\n",
       "      <td>76097</td>\n",
       "      <td>Oil</td>\n",
       "    </tr>\n",
       "    <tr>\n",
       "      <th>1</th>\n",
       "      <td>2005-07-19</td>\n",
       "      <td>57.250000</td>\n",
       "      <td>57.770000</td>\n",
       "      <td>56.799999</td>\n",
       "      <td>57.459999</td>\n",
       "      <td>85894</td>\n",
       "      <td>Oil</td>\n",
       "    </tr>\n",
       "    <tr>\n",
       "      <th>2</th>\n",
       "      <td>2005-07-20</td>\n",
       "      <td>57.380001</td>\n",
       "      <td>58.299999</td>\n",
       "      <td>56.099998</td>\n",
       "      <td>56.720001</td>\n",
       "      <td>145901</td>\n",
       "      <td>Oil</td>\n",
       "    </tr>\n",
       "    <tr>\n",
       "      <th>3</th>\n",
       "      <td>2005-07-21</td>\n",
       "      <td>58.150002</td>\n",
       "      <td>58.169998</td>\n",
       "      <td>56.500000</td>\n",
       "      <td>57.130001</td>\n",
       "      <td>106235</td>\n",
       "      <td>Oil</td>\n",
       "    </tr>\n",
       "    <tr>\n",
       "      <th>4</th>\n",
       "      <td>2005-07-22</td>\n",
       "      <td>57.270000</td>\n",
       "      <td>58.700001</td>\n",
       "      <td>57.130001</td>\n",
       "      <td>58.650002</td>\n",
       "      <td>83067</td>\n",
       "      <td>Oil</td>\n",
       "    </tr>\n",
       "  </tbody>\n",
       "</table>\n",
       "</div>"
      ],
      "text/plain": [
       "        date       open       high        low      close  volume name\n",
       "0 2005-07-18  58.000000  58.980000  56.799999  57.320000   76097  Oil\n",
       "1 2005-07-19  57.250000  57.770000  56.799999  57.459999   85894  Oil\n",
       "2 2005-07-20  57.380001  58.299999  56.099998  56.720001  145901  Oil\n",
       "3 2005-07-21  58.150002  58.169998  56.500000  57.130001  106235  Oil\n",
       "4 2005-07-22  57.270000  58.700001  57.130001  58.650002   83067  Oil"
      ]
     },
     "execution_count": 38,
     "metadata": {},
     "output_type": "execute_result"
    }
   ],
   "source": [
    "#now let's only keep what we need\n",
    "print('------------ Reduce to necessary data ---------------')\n",
    "\n",
    "\n",
    "df = data.drop(['ticker','source','timeframe'],axis=1)\n",
    "\n",
    "print(f'Make sure there are no missing data ...')\n",
    "print(f'{df.isna().sum()}')\n",
    "\n",
    "df.head()"
   ]
  },
  {
   "cell_type": "markdown",
   "id": "60d6a0aa",
   "metadata": {},
   "source": [
    "## Price & Volatility Analysis\n",
    "\n",
    "The main goal of this substage is to check the price and volatility evolution, the distribution of returns over different timeframes, and, last but not least, we are curious to see how much a random investor could profit by holding Oil as a part of their portfolio over different time horizons."
   ]
  },
  {
   "cell_type": "code",
   "execution_count": null,
   "id": "df88c373",
   "metadata": {},
   "outputs": [
    {
     "data": {
      "text/plain": [
       "date      0\n",
       "open      0\n",
       "high      0\n",
       "low       0\n",
       "close     0\n",
       "volume    0\n",
       "name      0\n",
       "dtype: int64"
      ]
     },
     "execution_count": 34,
     "metadata": {},
     "output_type": "execute_result"
    }
   ],
   "source": []
  },
  {
   "cell_type": "code",
   "execution_count": null,
   "id": "cd00789c",
   "metadata": {},
   "outputs": [],
   "source": []
  }
 ],
 "metadata": {
  "kernelspec": {
   "display_name": "env_commodity_lab",
   "language": "python",
   "name": "python3"
  },
  "language_info": {
   "codemirror_mode": {
    "name": "ipython",
    "version": 3
   },
   "file_extension": ".py",
   "mimetype": "text/x-python",
   "name": "python",
   "nbconvert_exporter": "python",
   "pygments_lexer": "ipython3",
   "version": "3.12.2"
  }
 },
 "nbformat": 4,
 "nbformat_minor": 5
}
